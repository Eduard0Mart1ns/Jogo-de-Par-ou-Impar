{
  "nbformat": 4,
  "nbformat_minor": 0,
  "metadata": {
    "colab": {
      "provenance": []
    },
    "kernelspec": {
      "name": "python3",
      "display_name": "Python 3"
    },
    "language_info": {
      "name": "python"
    }
  },
  "cells": [
    {
      "cell_type": "markdown",
      "source": [
        "### Digite um Numero Para saber se ele é Par ou Impar"
      ],
      "metadata": {
        "id": "Q26UkdTHbLGm"
      }
    },
    {
      "cell_type": "code",
      "execution_count": null,
      "metadata": {
        "colab": {
          "base_uri": "https://localhost:8080/"
        },
        "id": "okxLSOkpMAQ6",
        "outputId": "ef1ae309-8020-40aa-b138-3b7422ad602f"
      },
      "outputs": [
        {
          "output_type": "stream",
          "name": "stdout",
          "text": [
            "ola vamos verificar se seu numero é par ou impar\n",
            "digite um numero: 4\n",
            "O seu numero é par\n"
          ]
        }
      ],
      "source": [
        "# mensagem de saudação\n",
        "print('ola vamos verificar se seu numero é par ou impar')\n",
        "# usuario digita o numero\n",
        "valor1 = int(input('digite um numero: '))\n",
        "# verificar se o numero do usuario é divisivel por dois\n",
        "if valor1 % 2 == 0:\n",
        "    print('O seu numero é par')\n",
        "else:\n",
        "    print('O seu numero é impar')\n"
      ]
    },
    {
      "cell_type": "markdown",
      "source": [
        "### Jogo de Par ou Impar"
      ],
      "metadata": {
        "id": "rJK2unvNbd8C"
      }
    },
    {
      "cell_type": "code",
      "source": [
        "# saudação ao usuario\n",
        "print(\"Ola, Vamos jogar Par ou Impar\")\n",
        "print('Voce gostaria de ser Par ou impar')\n",
        "\n",
        "# perguntar ao usuario se ele vai ser par ou impar\n",
        "opcaousuario = input('Digite Par ou Impar: (Par, impar) ').capitalize()\n",
        "import random\n",
        "numpc = int(random.randrange(0,101))\n",
        "# verificar a opçao do pc\n",
        "if opcaousuario == \"Par\":\n",
        "    opcaopc = \"Impar\"\n",
        "elif opcaousuario == \"impar\":\n",
        "    opcaopc = \"Par\"\n",
        "\n",
        "# verificar a soma do numero do computador e do usuario\n",
        "numusuario = int(input(\"digite Um Numero de 1 a 100:\"  ))\n",
        "print(\"Pc escolheu\",numpc)\n",
        "Valor = numusuario + numpc\n",
        "print(\"O Soma dos Números é igual:\", Valor)\n",
        "\n",
        "# verificar se o numero é par ou impar\n",
        "if Valor % 2 == 0:\n",
        "    Numresultado = \"Par\"\n",
        "else:\n",
        "    Numresultado = \"impar\"\n",
        "print(Numresultado)\n",
        "\n",
        "# decidindo quem ganhou\n",
        "if Numresultado == opcaousuario:\n",
        "    print(\"Parabens voce Ganhou\")\n",
        "else:\n",
        "    print(\"Voce Perdeu\")\n"
      ],
      "metadata": {
        "colab": {
          "base_uri": "https://localhost:8080/"
        },
        "id": "z99hWSCc2rfR",
        "outputId": "ade6320c-ee8e-4579-c429-594119b4ac3c"
      },
      "execution_count": null,
      "outputs": [
        {
          "output_type": "stream",
          "name": "stdout",
          "text": [
            "Ola, Vamos jogar Par ou Impar\n",
            "Voce gostaria de ser Par ou impar\n",
            "Digite Par ou Impar: (Par, impar) par\n",
            "digite Um Numero de 1 a 100:4\n",
            "Pc escolheu 2\n",
            "O Soma dos Números é igual: 6\n",
            "Par\n",
            "Parabens voce Ganhou\n"
          ]
        }
      ]
    }
  ]
}